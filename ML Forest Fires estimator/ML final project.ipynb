{
 "cells": [
  {
   "cell_type": "code",
   "execution_count": 18,
   "id": "interior-posting",
   "metadata": {},
   "outputs": [],
   "source": [
    "import pandas as pd\n",
    "import numpy as np\n",
    "import seaborn as sns\n",
    "from scipy.stats import zscore\n",
    "import matplotlib.pyplot as plt\n",
    "\n",
    "from sklearn.preprocessing import MinMaxScaler\n",
    "from sklearn.model_selection import train_test_split\n",
    "from keras.models import Sequential\n",
    "from keras.layers import Dense\n",
    "from keras.layers import Dropout\n",
    "from keras.optimizers import SGD\n",
    "from keras.utils import to_categorical"
   ]
  },
  {
   "cell_type": "code",
   "execution_count": 2,
   "id": "lovely-wichita",
   "metadata": {},
   "outputs": [],
   "source": [
    "ff = pd.read_csv('forestfires.csv')"
   ]
  },
  {
   "cell_type": "code",
   "execution_count": 3,
   "id": "emotional-twist",
   "metadata": {},
   "outputs": [
    {
     "data": {
      "text/html": [
       "<div>\n",
       "<style scoped>\n",
       "    .dataframe tbody tr th:only-of-type {\n",
       "        vertical-align: middle;\n",
       "    }\n",
       "\n",
       "    .dataframe tbody tr th {\n",
       "        vertical-align: top;\n",
       "    }\n",
       "\n",
       "    .dataframe thead th {\n",
       "        text-align: right;\n",
       "    }\n",
       "</style>\n",
       "<table border=\"1\" class=\"dataframe\">\n",
       "  <thead>\n",
       "    <tr style=\"text-align: right;\">\n",
       "      <th></th>\n",
       "      <th>X</th>\n",
       "      <th>Y</th>\n",
       "      <th>month</th>\n",
       "      <th>day</th>\n",
       "      <th>FFMC</th>\n",
       "      <th>DMC</th>\n",
       "      <th>DC</th>\n",
       "      <th>ISI</th>\n",
       "      <th>temp</th>\n",
       "      <th>RH</th>\n",
       "      <th>wind</th>\n",
       "      <th>rain</th>\n",
       "      <th>area</th>\n",
       "    </tr>\n",
       "  </thead>\n",
       "  <tbody>\n",
       "    <tr>\n",
       "      <th>0</th>\n",
       "      <td>7</td>\n",
       "      <td>5</td>\n",
       "      <td>mar</td>\n",
       "      <td>fri</td>\n",
       "      <td>86.2</td>\n",
       "      <td>26.2</td>\n",
       "      <td>94.3</td>\n",
       "      <td>5.1</td>\n",
       "      <td>8.2</td>\n",
       "      <td>51</td>\n",
       "      <td>6.7</td>\n",
       "      <td>0.0</td>\n",
       "      <td>0.0</td>\n",
       "    </tr>\n",
       "    <tr>\n",
       "      <th>1</th>\n",
       "      <td>7</td>\n",
       "      <td>4</td>\n",
       "      <td>oct</td>\n",
       "      <td>tue</td>\n",
       "      <td>90.6</td>\n",
       "      <td>35.4</td>\n",
       "      <td>669.1</td>\n",
       "      <td>6.7</td>\n",
       "      <td>18.0</td>\n",
       "      <td>33</td>\n",
       "      <td>0.9</td>\n",
       "      <td>0.0</td>\n",
       "      <td>0.0</td>\n",
       "    </tr>\n",
       "    <tr>\n",
       "      <th>2</th>\n",
       "      <td>7</td>\n",
       "      <td>4</td>\n",
       "      <td>oct</td>\n",
       "      <td>sat</td>\n",
       "      <td>90.6</td>\n",
       "      <td>43.7</td>\n",
       "      <td>686.9</td>\n",
       "      <td>6.7</td>\n",
       "      <td>14.6</td>\n",
       "      <td>33</td>\n",
       "      <td>1.3</td>\n",
       "      <td>0.0</td>\n",
       "      <td>0.0</td>\n",
       "    </tr>\n",
       "    <tr>\n",
       "      <th>3</th>\n",
       "      <td>8</td>\n",
       "      <td>6</td>\n",
       "      <td>mar</td>\n",
       "      <td>fri</td>\n",
       "      <td>91.7</td>\n",
       "      <td>33.3</td>\n",
       "      <td>77.5</td>\n",
       "      <td>9.0</td>\n",
       "      <td>8.3</td>\n",
       "      <td>97</td>\n",
       "      <td>4.0</td>\n",
       "      <td>0.2</td>\n",
       "      <td>0.0</td>\n",
       "    </tr>\n",
       "    <tr>\n",
       "      <th>4</th>\n",
       "      <td>8</td>\n",
       "      <td>6</td>\n",
       "      <td>mar</td>\n",
       "      <td>sun</td>\n",
       "      <td>89.3</td>\n",
       "      <td>51.3</td>\n",
       "      <td>102.2</td>\n",
       "      <td>9.6</td>\n",
       "      <td>11.4</td>\n",
       "      <td>99</td>\n",
       "      <td>1.8</td>\n",
       "      <td>0.0</td>\n",
       "      <td>0.0</td>\n",
       "    </tr>\n",
       "  </tbody>\n",
       "</table>\n",
       "</div>"
      ],
      "text/plain": [
       "   X  Y month  day  FFMC   DMC     DC  ISI  temp  RH  wind  rain  area\n",
       "0  7  5   mar  fri  86.2  26.2   94.3  5.1   8.2  51   6.7   0.0   0.0\n",
       "1  7  4   oct  tue  90.6  35.4  669.1  6.7  18.0  33   0.9   0.0   0.0\n",
       "2  7  4   oct  sat  90.6  43.7  686.9  6.7  14.6  33   1.3   0.0   0.0\n",
       "3  8  6   mar  fri  91.7  33.3   77.5  9.0   8.3  97   4.0   0.2   0.0\n",
       "4  8  6   mar  sun  89.3  51.3  102.2  9.6  11.4  99   1.8   0.0   0.0"
      ]
     },
     "execution_count": 3,
     "metadata": {},
     "output_type": "execute_result"
    }
   ],
   "source": [
    "ff.head()"
   ]
  },
  {
   "cell_type": "code",
   "execution_count": 4,
   "id": "adapted-sampling",
   "metadata": {},
   "outputs": [
    {
     "data": {
      "text/plain": [
       "X        0\n",
       "Y        0\n",
       "month    0\n",
       "day      0\n",
       "FFMC     0\n",
       "DMC      0\n",
       "DC       0\n",
       "ISI      0\n",
       "temp     0\n",
       "RH       0\n",
       "wind     0\n",
       "rain     0\n",
       "area     0\n",
       "dtype: int64"
      ]
     },
     "execution_count": 4,
     "metadata": {},
     "output_type": "execute_result"
    }
   ],
   "source": [
    "ff.isnull().sum()"
   ]
  },
  {
   "cell_type": "code",
   "execution_count": 5,
   "id": "spare-reality",
   "metadata": {},
   "outputs": [
    {
     "data": {
      "text/html": [
       "<div>\n",
       "<style scoped>\n",
       "    .dataframe tbody tr th:only-of-type {\n",
       "        vertical-align: middle;\n",
       "    }\n",
       "\n",
       "    .dataframe tbody tr th {\n",
       "        vertical-align: top;\n",
       "    }\n",
       "\n",
       "    .dataframe thead th {\n",
       "        text-align: right;\n",
       "    }\n",
       "</style>\n",
       "<table border=\"1\" class=\"dataframe\">\n",
       "  <thead>\n",
       "    <tr style=\"text-align: right;\">\n",
       "      <th></th>\n",
       "      <th>X</th>\n",
       "      <th>Y</th>\n",
       "      <th>FFMC</th>\n",
       "      <th>DMC</th>\n",
       "      <th>DC</th>\n",
       "      <th>ISI</th>\n",
       "      <th>temp</th>\n",
       "      <th>RH</th>\n",
       "      <th>wind</th>\n",
       "      <th>rain</th>\n",
       "      <th>area</th>\n",
       "    </tr>\n",
       "  </thead>\n",
       "  <tbody>\n",
       "    <tr>\n",
       "      <th>count</th>\n",
       "      <td>517.000000</td>\n",
       "      <td>517.000000</td>\n",
       "      <td>517.000000</td>\n",
       "      <td>517.000000</td>\n",
       "      <td>517.000000</td>\n",
       "      <td>517.000000</td>\n",
       "      <td>517.000000</td>\n",
       "      <td>517.000000</td>\n",
       "      <td>517.000000</td>\n",
       "      <td>517.000000</td>\n",
       "      <td>517.000000</td>\n",
       "    </tr>\n",
       "    <tr>\n",
       "      <th>mean</th>\n",
       "      <td>4.669246</td>\n",
       "      <td>4.299807</td>\n",
       "      <td>90.644681</td>\n",
       "      <td>110.872340</td>\n",
       "      <td>547.940039</td>\n",
       "      <td>9.021663</td>\n",
       "      <td>18.889168</td>\n",
       "      <td>44.288201</td>\n",
       "      <td>4.017602</td>\n",
       "      <td>0.021663</td>\n",
       "      <td>12.847292</td>\n",
       "    </tr>\n",
       "    <tr>\n",
       "      <th>std</th>\n",
       "      <td>2.313778</td>\n",
       "      <td>1.229900</td>\n",
       "      <td>5.520111</td>\n",
       "      <td>64.046482</td>\n",
       "      <td>248.066192</td>\n",
       "      <td>4.559477</td>\n",
       "      <td>5.806625</td>\n",
       "      <td>16.317469</td>\n",
       "      <td>1.791653</td>\n",
       "      <td>0.295959</td>\n",
       "      <td>63.655818</td>\n",
       "    </tr>\n",
       "    <tr>\n",
       "      <th>min</th>\n",
       "      <td>1.000000</td>\n",
       "      <td>2.000000</td>\n",
       "      <td>18.700000</td>\n",
       "      <td>1.100000</td>\n",
       "      <td>7.900000</td>\n",
       "      <td>0.000000</td>\n",
       "      <td>2.200000</td>\n",
       "      <td>15.000000</td>\n",
       "      <td>0.400000</td>\n",
       "      <td>0.000000</td>\n",
       "      <td>0.000000</td>\n",
       "    </tr>\n",
       "    <tr>\n",
       "      <th>25%</th>\n",
       "      <td>3.000000</td>\n",
       "      <td>4.000000</td>\n",
       "      <td>90.200000</td>\n",
       "      <td>68.600000</td>\n",
       "      <td>437.700000</td>\n",
       "      <td>6.500000</td>\n",
       "      <td>15.500000</td>\n",
       "      <td>33.000000</td>\n",
       "      <td>2.700000</td>\n",
       "      <td>0.000000</td>\n",
       "      <td>0.000000</td>\n",
       "    </tr>\n",
       "    <tr>\n",
       "      <th>50%</th>\n",
       "      <td>4.000000</td>\n",
       "      <td>4.000000</td>\n",
       "      <td>91.600000</td>\n",
       "      <td>108.300000</td>\n",
       "      <td>664.200000</td>\n",
       "      <td>8.400000</td>\n",
       "      <td>19.300000</td>\n",
       "      <td>42.000000</td>\n",
       "      <td>4.000000</td>\n",
       "      <td>0.000000</td>\n",
       "      <td>0.520000</td>\n",
       "    </tr>\n",
       "    <tr>\n",
       "      <th>75%</th>\n",
       "      <td>7.000000</td>\n",
       "      <td>5.000000</td>\n",
       "      <td>92.900000</td>\n",
       "      <td>142.400000</td>\n",
       "      <td>713.900000</td>\n",
       "      <td>10.800000</td>\n",
       "      <td>22.800000</td>\n",
       "      <td>53.000000</td>\n",
       "      <td>4.900000</td>\n",
       "      <td>0.000000</td>\n",
       "      <td>6.570000</td>\n",
       "    </tr>\n",
       "    <tr>\n",
       "      <th>max</th>\n",
       "      <td>9.000000</td>\n",
       "      <td>9.000000</td>\n",
       "      <td>96.200000</td>\n",
       "      <td>291.300000</td>\n",
       "      <td>860.600000</td>\n",
       "      <td>56.100000</td>\n",
       "      <td>33.300000</td>\n",
       "      <td>100.000000</td>\n",
       "      <td>9.400000</td>\n",
       "      <td>6.400000</td>\n",
       "      <td>1090.840000</td>\n",
       "    </tr>\n",
       "  </tbody>\n",
       "</table>\n",
       "</div>"
      ],
      "text/plain": [
       "                X           Y        FFMC         DMC          DC         ISI  \\\n",
       "count  517.000000  517.000000  517.000000  517.000000  517.000000  517.000000   \n",
       "mean     4.669246    4.299807   90.644681  110.872340  547.940039    9.021663   \n",
       "std      2.313778    1.229900    5.520111   64.046482  248.066192    4.559477   \n",
       "min      1.000000    2.000000   18.700000    1.100000    7.900000    0.000000   \n",
       "25%      3.000000    4.000000   90.200000   68.600000  437.700000    6.500000   \n",
       "50%      4.000000    4.000000   91.600000  108.300000  664.200000    8.400000   \n",
       "75%      7.000000    5.000000   92.900000  142.400000  713.900000   10.800000   \n",
       "max      9.000000    9.000000   96.200000  291.300000  860.600000   56.100000   \n",
       "\n",
       "             temp          RH        wind        rain         area  \n",
       "count  517.000000  517.000000  517.000000  517.000000   517.000000  \n",
       "mean    18.889168   44.288201    4.017602    0.021663    12.847292  \n",
       "std      5.806625   16.317469    1.791653    0.295959    63.655818  \n",
       "min      2.200000   15.000000    0.400000    0.000000     0.000000  \n",
       "25%     15.500000   33.000000    2.700000    0.000000     0.000000  \n",
       "50%     19.300000   42.000000    4.000000    0.000000     0.520000  \n",
       "75%     22.800000   53.000000    4.900000    0.000000     6.570000  \n",
       "max     33.300000  100.000000    9.400000    6.400000  1090.840000  "
      ]
     },
     "execution_count": 5,
     "metadata": {},
     "output_type": "execute_result"
    }
   ],
   "source": [
    "ff.describe()"
   ]
  },
  {
   "cell_type": "code",
   "execution_count": 6,
   "id": "respected-combination",
   "metadata": {},
   "outputs": [],
   "source": [
    "ff['day'] = ff.day.map({'mon': 1, 'tue': 2, 'wed': 3, 'thu': 4, 'fri': 5, 'sat':6, 'sun':7})\n",
    "ff['month'] = ff.month.map({'jan': 1, 'feb': 2, 'mar': 3, 'apr': 4, 'may': 5, 'jun':6, 'jul':7, 'aug':8, 'sep':9, 'oct':10, 'nov':11, 'dec':12})"
   ]
  },
  {
   "cell_type": "code",
   "execution_count": 7,
   "id": "artistic-solid",
   "metadata": {},
   "outputs": [
    {
     "data": {
      "text/html": [
       "<div>\n",
       "<style scoped>\n",
       "    .dataframe tbody tr th:only-of-type {\n",
       "        vertical-align: middle;\n",
       "    }\n",
       "\n",
       "    .dataframe tbody tr th {\n",
       "        vertical-align: top;\n",
       "    }\n",
       "\n",
       "    .dataframe thead th {\n",
       "        text-align: right;\n",
       "    }\n",
       "</style>\n",
       "<table border=\"1\" class=\"dataframe\">\n",
       "  <thead>\n",
       "    <tr style=\"text-align: right;\">\n",
       "      <th></th>\n",
       "      <th>X</th>\n",
       "      <th>Y</th>\n",
       "      <th>month</th>\n",
       "      <th>day</th>\n",
       "      <th>FFMC</th>\n",
       "      <th>DMC</th>\n",
       "      <th>DC</th>\n",
       "      <th>ISI</th>\n",
       "      <th>temp</th>\n",
       "      <th>RH</th>\n",
       "      <th>wind</th>\n",
       "      <th>rain</th>\n",
       "      <th>area</th>\n",
       "    </tr>\n",
       "  </thead>\n",
       "  <tbody>\n",
       "    <tr>\n",
       "      <th>0</th>\n",
       "      <td>7</td>\n",
       "      <td>5</td>\n",
       "      <td>3</td>\n",
       "      <td>5</td>\n",
       "      <td>86.2</td>\n",
       "      <td>26.2</td>\n",
       "      <td>94.3</td>\n",
       "      <td>5.1</td>\n",
       "      <td>8.2</td>\n",
       "      <td>51</td>\n",
       "      <td>6.7</td>\n",
       "      <td>0.0</td>\n",
       "      <td>0.0</td>\n",
       "    </tr>\n",
       "    <tr>\n",
       "      <th>1</th>\n",
       "      <td>7</td>\n",
       "      <td>4</td>\n",
       "      <td>10</td>\n",
       "      <td>2</td>\n",
       "      <td>90.6</td>\n",
       "      <td>35.4</td>\n",
       "      <td>669.1</td>\n",
       "      <td>6.7</td>\n",
       "      <td>18.0</td>\n",
       "      <td>33</td>\n",
       "      <td>0.9</td>\n",
       "      <td>0.0</td>\n",
       "      <td>0.0</td>\n",
       "    </tr>\n",
       "    <tr>\n",
       "      <th>2</th>\n",
       "      <td>7</td>\n",
       "      <td>4</td>\n",
       "      <td>10</td>\n",
       "      <td>6</td>\n",
       "      <td>90.6</td>\n",
       "      <td>43.7</td>\n",
       "      <td>686.9</td>\n",
       "      <td>6.7</td>\n",
       "      <td>14.6</td>\n",
       "      <td>33</td>\n",
       "      <td>1.3</td>\n",
       "      <td>0.0</td>\n",
       "      <td>0.0</td>\n",
       "    </tr>\n",
       "    <tr>\n",
       "      <th>3</th>\n",
       "      <td>8</td>\n",
       "      <td>6</td>\n",
       "      <td>3</td>\n",
       "      <td>5</td>\n",
       "      <td>91.7</td>\n",
       "      <td>33.3</td>\n",
       "      <td>77.5</td>\n",
       "      <td>9.0</td>\n",
       "      <td>8.3</td>\n",
       "      <td>97</td>\n",
       "      <td>4.0</td>\n",
       "      <td>0.2</td>\n",
       "      <td>0.0</td>\n",
       "    </tr>\n",
       "    <tr>\n",
       "      <th>4</th>\n",
       "      <td>8</td>\n",
       "      <td>6</td>\n",
       "      <td>3</td>\n",
       "      <td>7</td>\n",
       "      <td>89.3</td>\n",
       "      <td>51.3</td>\n",
       "      <td>102.2</td>\n",
       "      <td>9.6</td>\n",
       "      <td>11.4</td>\n",
       "      <td>99</td>\n",
       "      <td>1.8</td>\n",
       "      <td>0.0</td>\n",
       "      <td>0.0</td>\n",
       "    </tr>\n",
       "  </tbody>\n",
       "</table>\n",
       "</div>"
      ],
      "text/plain": [
       "   X  Y  month  day  FFMC   DMC     DC  ISI  temp  RH  wind  rain  area\n",
       "0  7  5      3    5  86.2  26.2   94.3  5.1   8.2  51   6.7   0.0   0.0\n",
       "1  7  4     10    2  90.6  35.4  669.1  6.7  18.0  33   0.9   0.0   0.0\n",
       "2  7  4     10    6  90.6  43.7  686.9  6.7  14.6  33   1.3   0.0   0.0\n",
       "3  8  6      3    5  91.7  33.3   77.5  9.0   8.3  97   4.0   0.2   0.0\n",
       "4  8  6      3    7  89.3  51.3  102.2  9.6  11.4  99   1.8   0.0   0.0"
      ]
     },
     "execution_count": 7,
     "metadata": {},
     "output_type": "execute_result"
    }
   ],
   "source": [
    "ff.head()"
   ]
  },
  {
   "cell_type": "markdown",
   "id": "manufactured-fruit",
   "metadata": {},
   "source": [
    "# Outlier"
   ]
  },
  {
   "cell_type": "code",
   "execution_count": 8,
   "id": "elementary-guard",
   "metadata": {},
   "outputs": [
    {
     "data": {
      "text/plain": [
       "<AxesSubplot:>"
      ]
     },
     "execution_count": 8,
     "metadata": {},
     "output_type": "execute_result"
    },
    {
     "data": {
      "image/png": "[encoded data removed]",
      "text/plain": [
       "<Figure size 432x288 with 1 Axes>"
      ]
     },
     "metadata": {
      "needs_background": "light"
     },
     "output_type": "display_data"
    }
   ],
   "source": [
    "ff.boxplot()"
   ]
  },
  {
   "cell_type": "code",
   "execution_count": 9,
   "id": "moderate-mining",
   "metadata": {},
   "outputs": [
    {
     "data": {
      "text/plain": [
       "<AxesSubplot:xlabel='ISI'>"
      ]
     },
     "execution_count": 9,
     "metadata": {},
     "output_type": "execute_result"
    },
    {
     "data": {
      "image/png": "[encoded data removed]",
      "text/plain": [
       "<Figure size 432x288 with 1 Axes>"
      ]
     },
     "metadata": {
      "needs_background": "light"
     },
     "output_type": "display_data"
    }
   ],
   "source": [
    "sns.boxplot(x=ff['ISI'])"
   ]
  },
  {
   "cell_type": "code",
   "execution_count": 10,
   "id": "orange-dietary",
   "metadata": {},
   "outputs": [
    {
     "data": {
      "text/html": [
       "<div>\n",
       "<style scoped>\n",
       "    .dataframe tbody tr th:only-of-type {\n",
       "        vertical-align: middle;\n",
       "    }\n",
       "\n",
       "    .dataframe tbody tr th {\n",
       "        vertical-align: top;\n",
       "    }\n",
       "\n",
       "    .dataframe thead th {\n",
       "        text-align: right;\n",
       "    }\n",
       "</style>\n",
       "<table border=\"1\" class=\"dataframe\">\n",
       "  <thead>\n",
       "    <tr style=\"text-align: right;\">\n",
       "      <th></th>\n",
       "      <th>X</th>\n",
       "      <th>Y</th>\n",
       "      <th>month</th>\n",
       "      <th>day</th>\n",
       "      <th>FFMC</th>\n",
       "      <th>DMC</th>\n",
       "      <th>DC</th>\n",
       "      <th>ISI</th>\n",
       "      <th>temp</th>\n",
       "      <th>RH</th>\n",
       "      <th>wind</th>\n",
       "      <th>rain</th>\n",
       "      <th>area</th>\n",
       "    </tr>\n",
       "  </thead>\n",
       "  <tbody>\n",
       "    <tr>\n",
       "      <th>skewness</th>\n",
       "      <td>0.036246</td>\n",
       "      <td>0.417296</td>\n",
       "      <td>-1.218012</td>\n",
       "      <td>-0.212969</td>\n",
       "      <td>-6.575606</td>\n",
       "      <td>0.547498</td>\n",
       "      <td>-1.100445</td>\n",
       "      <td>2.536325</td>\n",
       "      <td>-0.331172</td>\n",
       "      <td>0.862904</td>\n",
       "      <td>0.571001</td>\n",
       "      <td>19.816344</td>\n",
       "      <td>12.846934</td>\n",
       "    </tr>\n",
       "    <tr>\n",
       "      <th>kurtosis</th>\n",
       "      <td>-1.172331</td>\n",
       "      <td>1.420553</td>\n",
       "      <td>0.644362</td>\n",
       "      <td>-1.285554</td>\n",
       "      <td>67.066041</td>\n",
       "      <td>0.204822</td>\n",
       "      <td>-0.245244</td>\n",
       "      <td>21.458037</td>\n",
       "      <td>0.136166</td>\n",
       "      <td>0.438183</td>\n",
       "      <td>0.054324</td>\n",
       "      <td>421.295964</td>\n",
       "      <td>194.140721</td>\n",
       "    </tr>\n",
       "  </tbody>\n",
       "</table>\n",
       "</div>"
      ],
      "text/plain": [
       "                 X         Y     month       day       FFMC       DMC  \\\n",
       "skewness  0.036246  0.417296 -1.218012 -0.212969  -6.575606  0.547498   \n",
       "kurtosis -1.172331  1.420553  0.644362 -1.285554  67.066041  0.204822   \n",
       "\n",
       "                DC        ISI      temp        RH      wind        rain  \\\n",
       "skewness -1.100445   2.536325 -0.331172  0.862904  0.571001   19.816344   \n",
       "kurtosis -0.245244  21.458037  0.136166  0.438183  0.054324  421.295964   \n",
       "\n",
       "                area  \n",
       "skewness   12.846934  \n",
       "kurtosis  194.140721  "
      ]
     },
     "execution_count": 10,
     "metadata": {},
     "output_type": "execute_result"
    }
   ],
   "source": [
    "pd.DataFrame(data=[ff.skew(),ff.kurtosis()],index=['skewness','kurtosis'])"
   ]
  },
  {
   "cell_type": "code",
   "execution_count": 11,
   "id": "brave-municipality",
   "metadata": {},
   "outputs": [],
   "source": [
    "Q1 = (ff[['FFMC','ISI','rain']]).quantile(0.25)\n",
    "Q3 = (ff[['FFMC','ISI','rain']]).quantile(0.75)"
   ]
  },
  {
   "cell_type": "code",
   "execution_count": 12,
   "id": "related-manchester",
   "metadata": {},
   "outputs": [
    {
     "name": "stdout",
     "output_type": "stream",
     "text": [
      "nilai maksimum dari masing-masing variable :\n",
      "FFMC    96.95\n",
      "ISI     17.25\n",
      "rain     0.00\n",
      "dtype: float64\n",
      "nilai minimum dari masing-masing variable :\n",
      "FFMC    86.15\n",
      "ISI      0.05\n",
      "rain     0.00\n",
      "dtype: float64\n"
     ]
    }
   ],
   "source": [
    "IQR = Q3 -Q1\n",
    "maximum = Q3 + (1.5 * IQR)\n",
    "print('nilai maksimum dari masing-masing variable :')\n",
    "print(maximum)\n",
    "\n",
    "minimum = Q1 - (1.5 * IQR)\n",
    "print('nilai minimum dari masing-masing variable :')\n",
    "print(minimum)"
   ]
  },
  {
   "cell_type": "code",
   "execution_count": 13,
   "id": "strategic-minnesota",
   "metadata": {},
   "outputs": [
    {
     "name": "stdout",
     "output_type": "stream",
     "text": [
      "persebaran data setelah ditangani outlier :\n",
      "             FFMC         ISI   rain\n",
      "count  517.000000  517.000000  517.0\n",
      "mean    91.302224    8.869729    0.0\n",
      "std      2.523609    3.882927    0.0\n",
      "min     86.150000    0.050000    0.0\n",
      "25%     90.200000    6.500000    0.0\n",
      "50%     91.600000    8.400000    0.0\n",
      "75%     92.900000   10.800000    0.0\n",
      "max     96.200000   17.250000    0.0\n"
     ]
    }
   ],
   "source": [
    "more_than = (ff > maximum)\n",
    "lower_than = (ff < minimum)\n",
    "ff = ff.mask(more_than, maximum, axis=1)\n",
    "ff = ff.mask(lower_than, minimum, axis=1)\n",
    "print('persebaran data setelah ditangani outlier :')\n",
    "print(ff[['FFMC','ISI','rain']].describe())"
   ]
  },
  {
   "cell_type": "markdown",
   "id": "selected-evaluation",
   "metadata": {},
   "source": [
    "# Data Preparation & Preprocessing"
   ]
  },
  {
   "cell_type": "code",
   "execution_count": 14,
   "id": "radio-contemporary",
   "metadata": {},
   "outputs": [],
   "source": [
    "dataset = ff.values"
   ]
  },
  {
   "cell_type": "code",
   "execution_count": 15,
   "id": "right-modem",
   "metadata": {},
   "outputs": [
    {
     "data": {
      "text/plain": [
       "(517, 13)"
      ]
     },
     "execution_count": 15,
     "metadata": {},
     "output_type": "execute_result"
    }
   ],
   "source": [
    "dataset.shape"
   ]
  },
  {
   "cell_type": "code",
   "execution_count": 16,
   "id": "uniform-parking",
   "metadata": {},
   "outputs": [],
   "source": [
    "X = dataset[:,:12]\n",
    "Y = dataset[:,12:]"
   ]
  },
  {
   "cell_type": "code",
   "execution_count": 19,
   "id": "applicable-hollow",
   "metadata": {},
   "outputs": [],
   "source": [
    "Y = np.array(Y).reshape((len(Y), 1))\n",
    "#Y.reshape(-1, 1)\n",
    "\n",
    "# normalize the dataset\n",
    "scaler = MinMaxScaler(feature_range=(0, 1))\n",
    "Y = scaler.fit_transform(Y)"
   ]
  },
  {
   "cell_type": "code",
   "execution_count": 20,
   "id": "broke-liberal",
   "metadata": {},
   "outputs": [
    {
     "data": {
      "text/plain": [
       "((517, 12), (517, 1))"
      ]
     },
     "execution_count": 20,
     "metadata": {},
     "output_type": "execute_result"
    }
   ],
   "source": [
    "X.shape, Y.shape"
   ]
  },
  {
   "cell_type": "code",
   "execution_count": 21,
   "id": "nonprofit-register",
   "metadata": {},
   "outputs": [],
   "source": [
    "Y = to_categorical(Y)"
   ]
  },
  {
   "cell_type": "code",
   "execution_count": 22,
   "id": "single-boating",
   "metadata": {},
   "outputs": [],
   "source": [
    "X_train, X_test, y_train, y_test = train_test_split(X,Y, test_size=0.20, random_state=2)"
   ]
  },
  {
   "cell_type": "code",
   "execution_count": 23,
   "id": "medium-petroleum",
   "metadata": {},
   "outputs": [
    {
     "data": {
      "text/plain": [
       "((413, 12), (104, 12), (413, 1), (104, 1))"
      ]
     },
     "execution_count": 23,
     "metadata": {},
     "output_type": "execute_result"
    }
   ],
   "source": [
    "X_train.shape, X_test.shape, y_train.shape, y_test.shape"
   ]
  },
  {
   "cell_type": "markdown",
   "id": "educational-venezuela",
   "metadata": {},
   "source": [
    "# Model 1"
   ]
  },
  {
   "cell_type": "code",
   "execution_count": 24,
   "id": "senior-evans",
   "metadata": {},
   "outputs": [],
   "source": [
    "# define model\n",
    "model = Sequential()\n",
    "model.add(Dense(50, input_dim=12, activation='relu', kernel_initializer='he_uniform'))\n",
    "model.add(Dense(1, kernel_initializer='uniform', activation='linear' ))"
   ]
  },
  {
   "cell_type": "code",
   "execution_count": 25,
   "id": "academic-bidding",
   "metadata": {},
   "outputs": [],
   "source": [
    "# compile model\n",
    "model.compile(loss='mse', optimizer='adam', metrics=['accuracy'])"
   ]
  },
  {
   "cell_type": "code",
   "execution_count": 26,
   "id": "sound-victor",
   "metadata": {},
   "outputs": [
    {
     "name": "stdout",
     "output_type": "stream",
     "text": [
      "Train on 413 samples, validate on 104 samples\n",
      "Epoch 1/100\n",
      "413/413 [==============================] - 2s 4ms/step - loss: 32.6630 - acc: 0.0436 - val_loss: 5.1800 - val_acc: 0.2212\n",
      "Epoch 2/100\n",
      "413/413 [==============================] - 0s 36us/step - loss: 11.2020 - acc: 0.0944 - val_loss: 3.0664 - val_acc: 0.2212\n",
      "Epoch 3/100\n",
      "413/413 [==============================] - 0s 43us/step - loss: 6.2792 - acc: 0.2155 - val_loss: 2.1334 - val_acc: 0.2885\n",
      "Epoch 4/100\n",
      "413/413 [==============================] - 0s 56us/step - loss: 4.3990 - acc: 0.1138 - val_loss: 1.7519 - val_acc: 0.3365\n",
      "Epoch 5/100\n",
      "413/413 [==============================] - 0s 46us/step - loss: 3.0659 - acc: 0.2010 - val_loss: 1.6266 - val_acc: 0.3269\n",
      "Epoch 6/100\n",
      "413/413 [==============================] - 0s 48us/step - loss: 2.1588 - acc: 0.2276 - val_loss: 1.3096 - val_acc: 0.3654\n",
      "Epoch 7/100\n",
      "413/413 [==============================] - 0s 43us/step - loss: 1.5502 - acc: 0.3002 - val_loss: 1.3821 - val_acc: 0.3173\n",
      "Epoch 8/100\n",
      "413/413 [==============================] - 0s 46us/step - loss: 1.2864 - acc: 0.3027 - val_loss: 1.0924 - val_acc: 0.4327\n",
      "Epoch 9/100\n",
      "413/413 [==============================] - 0s 43us/step - loss: 1.1229 - acc: 0.3656 - val_loss: 1.1645 - val_acc: 0.3269\n",
      "Epoch 10/100\n",
      "413/413 [==============================] - 0s 46us/step - loss: 1.0291 - acc: 0.3826 - val_loss: 0.9623 - val_acc: 0.4712\n",
      "Epoch 11/100\n",
      "413/413 [==============================] - 0s 48us/step - loss: 0.9873 - acc: 0.3584 - val_loss: 1.0517 - val_acc: 0.3558\n",
      "Epoch 12/100\n",
      "413/413 [==============================] - 0s 56us/step - loss: 0.8999 - acc: 0.3995 - val_loss: 0.8528 - val_acc: 0.4904\n",
      "Epoch 13/100\n",
      "413/413 [==============================] - 0s 51us/step - loss: 0.8619 - acc: 0.4189 - val_loss: 0.8011 - val_acc: 0.5000\n",
      "Epoch 14/100\n",
      "413/413 [==============================] - 0s 46us/step - loss: 0.7775 - acc: 0.4189 - val_loss: 0.9518 - val_acc: 0.3846\n",
      "Epoch 15/100\n",
      "413/413 [==============================] - 0s 41us/step - loss: 0.7382 - acc: 0.4286 - val_loss: 0.7298 - val_acc: 0.5192\n",
      "Epoch 16/100\n",
      "413/413 [==============================] - 0s 51us/step - loss: 0.6908 - acc: 0.4431 - val_loss: 0.6892 - val_acc: 0.5000\n",
      "Epoch 17/100\n",
      "413/413 [==============================] - 0s 46us/step - loss: 0.6393 - acc: 0.4697 - val_loss: 0.6917 - val_acc: 0.4615\n",
      "Epoch 18/100\n",
      "413/413 [==============================] - 0s 46us/step - loss: 0.5756 - acc: 0.4794 - val_loss: 0.6086 - val_acc: 0.5385\n",
      "Epoch 19/100\n",
      "413/413 [==============================] - 0s 39us/step - loss: 0.5553 - acc: 0.5061 - val_loss: 0.5763 - val_acc: 0.5769\n",
      "Epoch 20/100\n",
      "413/413 [==============================] - 0s 46us/step - loss: 0.5084 - acc: 0.5206 - val_loss: 0.6089 - val_acc: 0.4808\n",
      "Epoch 21/100\n",
      "413/413 [==============================] - 0s 53us/step - loss: 0.4707 - acc: 0.5472 - val_loss: 0.5205 - val_acc: 0.5769\n",
      "Epoch 22/100\n",
      "413/413 [==============================] - 0s 48us/step - loss: 0.4475 - acc: 0.5545 - val_loss: 0.5372 - val_acc: 0.5096\n",
      "Epoch 23/100\n",
      "413/413 [==============================] - 0s 41us/step - loss: 0.4316 - acc: 0.5569 - val_loss: 0.5012 - val_acc: 0.5673\n",
      "Epoch 24/100\n",
      "413/413 [==============================] - 0s 41us/step - loss: 0.3953 - acc: 0.5738 - val_loss: 0.4548 - val_acc: 0.6058\n",
      "Epoch 25/100\n",
      "413/413 [==============================] - 0s 48us/step - loss: 0.3923 - acc: 0.5738 - val_loss: 0.4329 - val_acc: 0.6154\n",
      "Epoch 26/100\n",
      "413/413 [==============================] - 0s 53us/step - loss: 0.3913 - acc: 0.5714 - val_loss: 0.4377 - val_acc: 0.5673\n",
      "Epoch 27/100\n",
      "413/413 [==============================] - 0s 46us/step - loss: 0.3664 - acc: 0.5981 - val_loss: 0.4712 - val_acc: 0.5000\n",
      "Epoch 28/100\n",
      "413/413 [==============================] - 0s 41us/step - loss: 0.3124 - acc: 0.6295 - val_loss: 0.3620 - val_acc: 0.6731\n",
      "Epoch 29/100\n",
      "413/413 [==============================] - 0s 48us/step - loss: 0.2994 - acc: 0.6271 - val_loss: 0.3617 - val_acc: 0.6346\n",
      "Epoch 30/100\n",
      "413/413 [==============================] - 0s 51us/step - loss: 0.3112 - acc: 0.6320 - val_loss: 0.3274 - val_acc: 0.7019\n",
      "Epoch 31/100\n",
      "413/413 [==============================] - 0s 43us/step - loss: 0.2661 - acc: 0.6538 - val_loss: 0.3549 - val_acc: 0.5865\n",
      "Epoch 32/100\n",
      "413/413 [==============================] - 0s 43us/step - loss: 0.2436 - acc: 0.6901 - val_loss: 0.3092 - val_acc: 0.7019\n",
      "Epoch 33/100\n",
      "413/413 [==============================] - 0s 41us/step - loss: 0.2299 - acc: 0.7046 - val_loss: 0.2855 - val_acc: 0.7308\n",
      "Epoch 34/100\n",
      "413/413 [==============================] - 0s 43us/step - loss: 0.2123 - acc: 0.7143 - val_loss: 0.2695 - val_acc: 0.7596\n",
      "Epoch 35/100\n",
      "413/413 [==============================] - 0s 51us/step - loss: 0.2020 - acc: 0.7385 - val_loss: 0.2560 - val_acc: 0.7788\n",
      "Epoch 36/100\n",
      "413/413 [==============================] - 0s 46us/step - loss: 0.1899 - acc: 0.7506 - val_loss: 0.2458 - val_acc: 0.7885\n",
      "Epoch 37/100\n",
      "413/413 [==============================] - 0s 41us/step - loss: 0.1788 - acc: 0.7772 - val_loss: 0.2329 - val_acc: 0.7981\n",
      "Epoch 38/100\n",
      "413/413 [==============================] - 0s 41us/step - loss: 0.1693 - acc: 0.8063 - val_loss: 0.2233 - val_acc: 0.8269\n",
      "Epoch 39/100\n",
      "413/413 [==============================] - 0s 51us/step - loss: 0.1663 - acc: 0.7942 - val_loss: 0.2121 - val_acc: 0.8173\n",
      "Epoch 40/100\n",
      "413/413 [==============================] - 0s 46us/step - loss: 0.1664 - acc: 0.7918 - val_loss: 0.2085 - val_acc: 0.8077\n",
      "Epoch 41/100\n",
      "413/413 [==============================] - 0s 43us/step - loss: 0.1500 - acc: 0.8378 - val_loss: 0.2001 - val_acc: 0.8173\n",
      "Epoch 42/100\n",
      "413/413 [==============================] - 0s 41us/step - loss: 0.1441 - acc: 0.8329 - val_loss: 0.1929 - val_acc: 0.8462\n",
      "Epoch 43/100\n",
      "413/413 [==============================] - 0s 48us/step - loss: 0.1241 - acc: 0.8814 - val_loss: 0.1797 - val_acc: 0.8654\n",
      "Epoch 44/100\n",
      "413/413 [==============================] - 0s 53us/step - loss: 0.1190 - acc: 0.8765 - val_loss: 0.1718 - val_acc: 0.8942\n",
      "Epoch 45/100\n",
      "413/413 [==============================] - 0s 46us/step - loss: 0.1124 - acc: 0.9056 - val_loss: 0.1632 - val_acc: 0.8750\n",
      "Epoch 46/100\n",
      "413/413 [==============================] - 0s 51us/step - loss: 0.1026 - acc: 0.9201 - val_loss: 0.1614 - val_acc: 0.8942\n",
      "Epoch 47/100\n",
      "413/413 [==============================] - 0s 46us/step - loss: 0.0988 - acc: 0.9249 - val_loss: 0.1710 - val_acc: 0.8462\n",
      "Epoch 48/100\n",
      "413/413 [==============================] - 0s 43us/step - loss: 0.0962 - acc: 0.9177 - val_loss: 0.1444 - val_acc: 0.9135\n",
      "Epoch 49/100\n",
      "413/413 [==============================] - 0s 48us/step - loss: 0.0871 - acc: 0.9395 - val_loss: 0.1398 - val_acc: 0.9135\n",
      "Epoch 50/100\n",
      "413/413 [==============================] - 0s 46us/step - loss: 0.0835 - acc: 0.9419 - val_loss: 0.1323 - val_acc: 0.9231\n",
      "Epoch 51/100\n",
      "413/413 [==============================] - 0s 63us/step - loss: 0.0794 - acc: 0.9516 - val_loss: 0.1279 - val_acc: 0.9231\n",
      "Epoch 52/100\n",
      "413/413 [==============================] - 0s 43us/step - loss: 0.0752 - acc: 0.9467 - val_loss: 0.1256 - val_acc: 0.9231\n",
      "Epoch 53/100\n",
      "413/413 [==============================] - 0s 46us/step - loss: 0.0703 - acc: 0.9564 - val_loss: 0.1221 - val_acc: 0.9327\n",
      "Epoch 54/100\n",
      "413/413 [==============================] - 0s 48us/step - loss: 0.0689 - acc: 0.9613 - val_loss: 0.1146 - val_acc: 0.9423\n",
      "Epoch 55/100\n",
      "413/413 [==============================] - 0s 51us/step - loss: 0.0681 - acc: 0.9540 - val_loss: 0.1086 - val_acc: 0.9327\n",
      "Epoch 56/100\n",
      "413/413 [==============================] - 0s 43us/step - loss: 0.0619 - acc: 0.9613 - val_loss: 0.1130 - val_acc: 0.9327\n",
      "Epoch 57/100\n",
      "413/413 [==============================] - 0s 51us/step - loss: 0.0583 - acc: 0.9661 - val_loss: 0.1008 - val_acc: 0.9423\n",
      "Epoch 58/100\n",
      "413/413 [==============================] - 0s 36us/step - loss: 0.0557 - acc: 0.9661 - val_loss: 0.0975 - val_acc: 0.9423\n",
      "Epoch 59/100\n",
      "413/413 [==============================] - 0s 39us/step - loss: 0.0534 - acc: 0.9637 - val_loss: 0.0947 - val_acc: 0.9519\n",
      "Epoch 60/100\n",
      "413/413 [==============================] - 0s 41us/step - loss: 0.0513 - acc: 0.9685 - val_loss: 0.0923 - val_acc: 0.9519\n",
      "Epoch 61/100\n"
     ]
    },
    {
     "name": "stdout",
     "output_type": "stream",
     "text": [
      "413/413 [==============================] - 0s 41us/step - loss: 0.0508 - acc: 0.9685 - val_loss: 0.0892 - val_acc: 0.9519\n",
      "Epoch 62/100\n",
      "413/413 [==============================] - 0s 36us/step - loss: 0.0476 - acc: 0.9782 - val_loss: 0.0863 - val_acc: 0.9519\n",
      "Epoch 63/100\n",
      "413/413 [==============================] - 0s 36us/step - loss: 0.0483 - acc: 0.9782 - val_loss: 0.0835 - val_acc: 0.9519\n",
      "Epoch 64/100\n",
      "413/413 [==============================] - 0s 34us/step - loss: 0.0509 - acc: 0.9782 - val_loss: 0.0853 - val_acc: 0.9519\n",
      "Epoch 65/100\n",
      "413/413 [==============================] - 0s 43us/step - loss: 0.0453 - acc: 0.9758 - val_loss: 0.0797 - val_acc: 0.9519\n",
      "Epoch 66/100\n",
      "413/413 [==============================] - 0s 48us/step - loss: 0.0429 - acc: 0.9734 - val_loss: 0.0758 - val_acc: 0.9519\n",
      "Epoch 67/100\n",
      "413/413 [==============================] - 0s 51us/step - loss: 0.0419 - acc: 0.9782 - val_loss: 0.0742 - val_acc: 0.9519\n",
      "Epoch 68/100\n",
      "413/413 [==============================] - 0s 70us/step - loss: 0.0394 - acc: 0.9758 - val_loss: 0.0715 - val_acc: 0.9615\n",
      "Epoch 69/100\n",
      "413/413 [==============================] - 0s 72us/step - loss: 0.0363 - acc: 0.9782 - val_loss: 0.0695 - val_acc: 0.9712\n",
      "Epoch 70/100\n",
      "413/413 [==============================] - 0s 87us/step - loss: 0.0350 - acc: 0.9831 - val_loss: 0.0678 - val_acc: 0.9712\n",
      "Epoch 71/100\n",
      "413/413 [==============================] - 0s 68us/step - loss: 0.0335 - acc: 0.9806 - val_loss: 0.0664 - val_acc: 0.9712\n",
      "Epoch 72/100\n",
      "413/413 [==============================] - 0s 58us/step - loss: 0.0322 - acc: 0.9782 - val_loss: 0.0650 - val_acc: 0.9712\n",
      "Epoch 73/100\n",
      "413/413 [==============================] - 0s 72us/step - loss: 0.0318 - acc: 0.9806 - val_loss: 0.0628 - val_acc: 0.9712\n",
      "Epoch 74/100\n",
      "413/413 [==============================] - 0s 39us/step - loss: 0.0325 - acc: 0.9831 - val_loss: 0.0613 - val_acc: 0.9712\n",
      "Epoch 75/100\n",
      "413/413 [==============================] - 0s 39us/step - loss: 0.0315 - acc: 0.9855 - val_loss: 0.0603 - val_acc: 0.9712\n",
      "Epoch 76/100\n",
      "413/413 [==============================] - 0s 39us/step - loss: 0.0332 - acc: 0.9831 - val_loss: 0.0688 - val_acc: 0.9712\n",
      "Epoch 77/100\n",
      "413/413 [==============================] - 0s 36us/step - loss: 0.0340 - acc: 0.9831 - val_loss: 0.0716 - val_acc: 0.9712\n",
      "Epoch 78/100\n",
      "413/413 [==============================] - 0s 36us/step - loss: 0.0326 - acc: 0.9831 - val_loss: 0.0605 - val_acc: 0.9712\n",
      "Epoch 79/100\n",
      "413/413 [==============================] - 0s 31us/step - loss: 0.0272 - acc: 0.9831 - val_loss: 0.0574 - val_acc: 0.9712\n",
      "Epoch 80/100\n",
      "413/413 [==============================] - 0s 58us/step - loss: 0.0273 - acc: 0.9855 - val_loss: 0.0546 - val_acc: 0.9808\n",
      "Epoch 81/100\n",
      "413/413 [==============================] - 0s 77us/step - loss: 0.0261 - acc: 0.9879 - val_loss: 0.0521 - val_acc: 0.9712\n",
      "Epoch 82/100\n",
      "413/413 [==============================] - 0s 60us/step - loss: 0.0243 - acc: 0.9879 - val_loss: 0.0514 - val_acc: 0.9712\n",
      "Epoch 83/100\n",
      "413/413 [==============================] - 0s 56us/step - loss: 0.0249 - acc: 0.9879 - val_loss: 0.0501 - val_acc: 0.9808\n",
      "Epoch 84/100\n",
      "413/413 [==============================] - 0s 75us/step - loss: 0.0228 - acc: 0.9879 - val_loss: 0.0496 - val_acc: 0.9712\n",
      "Epoch 85/100\n",
      "413/413 [==============================] - 0s 60us/step - loss: 0.0244 - acc: 0.9879 - val_loss: 0.0524 - val_acc: 0.9712\n",
      "Epoch 86/100\n",
      "413/413 [==============================] - 0s 56us/step - loss: 0.0233 - acc: 0.9903 - val_loss: 0.0540 - val_acc: 0.9712\n",
      "Epoch 87/100\n",
      "413/413 [==============================] - 0s 65us/step - loss: 0.0246 - acc: 0.9879 - val_loss: 0.0464 - val_acc: 0.9808\n",
      "Epoch 88/100\n",
      "413/413 [==============================] - ETA: 0s - loss: 0.0209 - acc: 0.984 - 0s 58us/step - loss: 0.0210 - acc: 0.9879 - val_loss: 0.0456 - val_acc: 0.9808\n",
      "Epoch 89/100\n",
      "413/413 [==============================] - 0s 48us/step - loss: 0.0206 - acc: 0.9879 - val_loss: 0.0445 - val_acc: 0.9808\n",
      "Epoch 90/100\n",
      "413/413 [==============================] - 0s 70us/step - loss: 0.0206 - acc: 0.9879 - val_loss: 0.0456 - val_acc: 0.9808\n",
      "Epoch 91/100\n",
      "413/413 [==============================] - 0s 46us/step - loss: 0.0203 - acc: 0.9879 - val_loss: 0.0432 - val_acc: 0.9808\n",
      "Epoch 92/100\n",
      "413/413 [==============================] - 0s 53us/step - loss: 0.0192 - acc: 0.9879 - val_loss: 0.0421 - val_acc: 0.9808\n",
      "Epoch 93/100\n",
      "413/413 [==============================] - 0s 75us/step - loss: 0.0186 - acc: 0.9903 - val_loss: 0.0416 - val_acc: 0.9808\n",
      "Epoch 94/100\n",
      "413/413 [==============================] - 0s 68us/step - loss: 0.0195 - acc: 0.9903 - val_loss: 0.0427 - val_acc: 0.9808\n",
      "Epoch 95/100\n",
      "413/413 [==============================] - 0s 43us/step - loss: 0.0187 - acc: 0.9903 - val_loss: 0.0412 - val_acc: 0.9808\n",
      "Epoch 96/100\n",
      "413/413 [==============================] - 0s 41us/step - loss: 0.0180 - acc: 0.9927 - val_loss: 0.0439 - val_acc: 0.9808\n",
      "Epoch 97/100\n",
      "413/413 [==============================] - 0s 41us/step - loss: 0.0181 - acc: 0.9927 - val_loss: 0.0395 - val_acc: 0.9808\n",
      "Epoch 98/100\n",
      "413/413 [==============================] - 0s 41us/step - loss: 0.0174 - acc: 0.9927 - val_loss: 0.0391 - val_acc: 0.9808\n",
      "Epoch 99/100\n",
      "413/413 [==============================] - 0s 41us/step - loss: 0.0165 - acc: 0.9927 - val_loss: 0.0393 - val_acc: 0.9808\n",
      "Epoch 100/100\n",
      "413/413 [==============================] - 0s 41us/step - loss: 0.0176 - acc: 0.9952 - val_loss: 0.0387 - val_acc: 0.9808\n"
     ]
    }
   ],
   "source": [
    "# train model\n",
    "history = model.fit(X_train,y_train,validation_data=(X_test,y_test),epochs=100, batch_size=64, verbose=1)"
   ]
  },
  {
   "cell_type": "code",
   "execution_count": 27,
   "id": "complicated-context",
   "metadata": {},
   "outputs": [
    {
     "name": "stdout",
     "output_type": "stream",
     "text": [
      "Train: 0.993, Valid: 0.981\n"
     ]
    }
   ],
   "source": [
    "# evaluate the model\n",
    "_, train_acc = model.evaluate(X_train, y_train, verbose=0)\n",
    "_, valid_acc = model.evaluate(X_test, y_test, verbose=0)\n",
    "print('Train: %.3f, Valid: %.3f' % (train_acc, valid_acc))"
   ]
  },
  {
   "cell_type": "code",
   "execution_count": 28,
   "id": "hawaiian-omaha",
   "metadata": {},
   "outputs": [
    {
     "data": {
      "image/png": "[encoded data removed]",
      "text/plain": [
       "<Figure size 432x288 with 1 Axes>"
      ]
     },
     "metadata": {
      "needs_background": "light"
     },
     "output_type": "display_data"
    }
   ],
   "source": [
    "# plot training history\n",
    "plt.plot(history.history['acc'], label='Train')\n",
    "plt.plot(history.history['val_acc'], label='Valid')\n",
    "plt.legend()\n",
    "plt.show()"
   ]
  },
  {
   "cell_type": "code",
   "execution_count": null,
   "id": "hungry-message",
   "metadata": {},
   "outputs": [],
   "source": []
  }
 ],
 "metadata": {
  "kernelspec": {
   "display_name": "Python 3",
   "language": "python",
   "name": "python3"
  },
  "language_info": {
   "codemirror_mode": {
    "name": "ipython",
    "version": 3
   },
   "file_extension": ".py",
   "mimetype": "text/x-python",
   "name": "python",
   "nbconvert_exporter": "python",
   "pygments_lexer": "ipython3",
   "version": "3.6.12"
  }
 },
 "nbformat": 4,
 "nbformat_minor": 5
}
